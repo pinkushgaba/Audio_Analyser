{
 "cells": [
  {
   "cell_type": "code",
   "execution_count": 1,
   "id": "7d9e4386-a13b-4404-a3f7-8e2a2a685f18",
   "metadata": {},
   "outputs": [
    {
     "name": "stdout",
     "output_type": "stream",
     "text": [
      "Collecting assemblyai\n",
      "  Downloading assemblyai-0.7.0-py3-none-any.whl (34 kB)\n",
      "Collecting pydantic>=1.7.0\n",
      "  Downloading pydantic-1.10.9-cp39-cp39-win_amd64.whl (2.2 MB)\n",
      "     ---------------------------------------- 2.2/2.2 MB 10.7 MB/s eta 0:00:00\n",
      "Requirement already satisfied: typing-extensions in c:\\users\\pinku\\appdata\\local\\programs\\python\\python39\\lib\\site-packages (from assemblyai) (4.3.0)\n",
      "Collecting httpx>=0.19.0\n",
      "  Downloading httpx-0.24.1-py3-none-any.whl (75 kB)\n",
      "     ---------------------------------------- 75.4/75.4 kB 4.1 MB/s eta 0:00:00\n",
      "Requirement already satisfied: sniffio in c:\\users\\pinku\\appdata\\local\\programs\\python\\python39\\lib\\site-packages (from httpx>=0.19.0->assemblyai) (1.3.0)\n",
      "Collecting httpcore<0.18.0,>=0.15.0\n",
      "  Downloading httpcore-0.17.2-py3-none-any.whl (72 kB)\n",
      "     ---------------------------------------- 72.5/72.5 kB 3.9 MB/s eta 0:00:00\n",
      "Requirement already satisfied: idna in c:\\users\\pinku\\appdata\\local\\programs\\python\\python39\\lib\\site-packages (from httpx>=0.19.0->assemblyai) (3.3)\n",
      "Requirement already satisfied: certifi in c:\\users\\pinku\\appdata\\local\\programs\\python\\python39\\lib\\site-packages (from httpx>=0.19.0->assemblyai) (2022.6.15.1)\n",
      "Requirement already satisfied: anyio<5.0,>=3.0 in c:\\users\\pinku\\appdata\\local\\programs\\python\\python39\\lib\\site-packages (from httpcore<0.18.0,>=0.15.0->httpx>=0.19.0->assemblyai) (3.7.0)\n",
      "Requirement already satisfied: h11<0.15,>=0.13 in c:\\users\\pinku\\appdata\\local\\programs\\python\\python39\\lib\\site-packages (from httpcore<0.18.0,>=0.15.0->httpx>=0.19.0->assemblyai) (0.14.0)\n",
      "Requirement already satisfied: exceptiongroup in c:\\users\\pinku\\appdata\\local\\programs\\python\\python39\\lib\\site-packages (from anyio<5.0,>=3.0->httpcore<0.18.0,>=0.15.0->httpx>=0.19.0->assemblyai) (1.0.0)\n",
      "Installing collected packages: pydantic, httpcore, httpx, assemblyai\n",
      "Successfully installed assemblyai-0.7.0 httpcore-0.17.2 httpx-0.24.1 pydantic-1.10.9\n"
     ]
    }
   ],
   "source": [
    "!pip install assemblyai"
   ]
  },
  {
   "cell_type": "code",
   "execution_count": 3,
   "id": "bc1b20fb-3519-4597-812b-89ce70d2064f",
   "metadata": {},
   "outputs": [
    {
     "name": "stdout",
     "output_type": "stream",
     "text": [
      "I recently got an amazing opportunity. I've been learning jujitsu, and a friend offered to coach me in exchange for teaching him how to code. At this point in my life, where I'm trying to improve my jujitsu as quickly as possible, this was an incredible trade for me. In my personal opinion, I was all for it until I had to think about how I'd actually go about teaching someone how to code starting from nothing, I quickly realized that this was gonna be a lot harder than I thought. After all, it's been almost ten years since wrote my very first line of code. That's a pretty long time. Now, this video is about the very specific and detailed plan that I wrote for my friend to teach me the basics of coding for data science. Since I did all the work for him, I figured I might as well share the details with you as well. Here. There have been plenty of other great videos similar to this about how to start coding, and I've linked many of them in the description. Again, those are great. But I think this is a bit different because it's more focused on coding for data and it uses a very specific real world case study. At the end, I also highlight the three most important things a new programmer should know. So you definitely want to stick around for that. Let's start with the language that we should start learning. I know if you're working with Data, you generally have two good choices. They would either start with Python or R. Let's quickly compare the two languages data Science Style when looking at the Stack Overflow Developer survey, we find that about 48% of respondents use Python, while only about 5% use R. In industry, Python is a far more common language. Let's now look more specifically at data scientists, not just all Stack Overflow users who come from a variety of backgrounds. On Kaggle, my favorite platform for data science learning and projects, we can see that around 84.2% of respondents use Python, while only 20.5% use R. Since these add up to more than 100%, we can assume that some data scientists are using both languages. Finally, let's look at these two languages over time. We can see here from 2020 to 2021, Python has gained an adoption, while R usage has seen some attrition. To me, this is a no brainer. I recommended my friend to start learning Python first. That language is more popular, and it's continuing to grow. This isn't to say R is bad. It's just to say that I think Python is growing and will be a more valuable skill to have for the job market in general. I also personally find it a bit more intuitive and flexible than R. Now that we've chosen our languages Python, what coding skills should my friend learn first? Should he focus on variables? Logic functions? Algorithms classes? My mind was absolutely spinning when I first addressed this. It took me a second, but I had this weird chaotic flashback to my first days of learning programming myself. I didn't even know where to start with getting Python on my own computer. I just now got excited about teaching the functional part of programming, and I completely forgot about the basics of setting up your environment for success. The next thing I did was give my friend some of my favorite resources on choosing an environment and getting the right version of Python on his computer. Honestly, I was a bit torn on this too. So for example, what IDE should he use? Does he even know what IDE stands for? For those who don't know and who are new, IDE stands for Integrated Development Environment. So this is essentially just the text editor you use to write your code. If you were writing an essay, you could choose to use Microsoft Word. You could use Google Docs, you could use Notepad, or maybe even just a straight up pen and paper. Just like there are these different mediums for you to write your last minute paper. Data scientists and software engineers need places to write their code. These places are called ides. And just like Microsoft Word has spelltrack and formatting to make sure that you don't make grammatical errors, many ides help you to make sure that you have proper syntax in your code. In theory, technically, Microsoft Word would be considered an IDE, but I definitely don't recommend using it as such unless you're geomatech. This is a list of the most commonly used Ides in the data domain, and as you can see, common Ides for Python are vs code, jupyter, Notebook, PyCharm, and Spider. Before anything else, I wanted to give him a decent understanding about how the development environments work before we picked one. As I mentioned, this is something that I was totally confused about when I started. When I learned to code, I was using Python and I was using an IDE called Idle. So Idle was great for learning, but I've literally never once touched it since, and I don't use it on any data projects in any of my work. I wanted to make sure that my friend was using something that would be representative of what he might see in the real world, what people actually use. For this specific friend, I recommended that he start learning the basics with this video from freeCodeCamp. I've linked it and all other resources in the description. So in the video, they show you how to set up the PyCharm environment and get comfortable using that. I think PyCharm is solid, and if you get familiar with that, you can easily pick up the SCode, a jupyter notebook or Spider pretty quickly. Truthfully, I don't think that the IDE that you start with really matters that much. What's more important is that you're using one that people who actually write Python code into production are using. Okay, now on to the coding basics. Surprisingly, I think this might be one of the simplest parts of this entire process. You see, there's a common misconception that coding is trying to trick you. There's this conspiracy that learning to code is supposed to be really hard and very scary. I would argue that it's almost the opposite. Coding languages, particularly Python, they're designed to be as easy to use as possible while creating good results. So if you change your perspective to look at them as intuitive, coding becomes significantly more fun and stressfree. This isn't to say that you won't get stuck. It's just to say that when you do get stuck, there's almost always a logical reason for it and a logical solution to resolve your problems. Keeping with this theme of simplicity, at the most basic level, beginner coding can be broken down into seven concepts. All the resources that I've linked in the description cover these topics, but I'm going to give you a very, very high level overview here. The first one we start with is data types. So in Python, you can work with numbers, you can work with text, you can work with booleans, you can work with lists or a host of different data structures. It's important to get a good understanding or a fundamental understanding of these first. Next, I think it makes sense to get familiar with how variables work. This can vary by language, so you need to make sure you know how to assign and change variables in Python, specifically, after variables, you should look into how logical operators work. These are very handy in your first few projects. If else, statements are probably the most important one. But you can definitely find use cases for the others, especially if you're working with data. The fourth thing you need to understand is how loops work. So one thing computers are really, really great at is doing a simple task over and over again. You'd be surprised at how useful these can be for your programming future. After that, you should learn about functions. So this sets the foundation for almost everything you do on your programming journey. Functions allow you to encapsulate code and reuse it. If you really think about it, good coding is about making as many reusable bits as possible, and these functions are where that really begins. At this point, you have a pretty good understanding of the key building blocks of Python. You should now learn a bit more about how some of the basic data structures work. I recommend taking a deeper dive into Lists, Dictionaries, as well as Tuples. This will set the foundation for much of your data work later on. Finally, you should start learning to work with libraries. So the most important ones for data are Pandas, NumPy, ScikitLearn, and Matplotlib, and these give you additional tools to analyze, visualize and manipulate data. Pandas and NumPy also introduce some new data structures, like arrays, series and data frames. So if you have an understanding of how the more basic data structures work in Python, you should be able to pick these up relatively quickly. And that's it. With those seven things, you have the basics of coding that you'll need for starting to work with data. If you're watching this and you're a software engineer, you probably think I left something important out. What I've purposely omitted from this list is an explanation of classes. So classes are the foundation of object oriented programming, and object oriented programming is a programming model that organizes code around objects rather than functions or logic. Object oriented programming is incredibly powerful, but honestly, it isn't very relevant for the beginner stages of working with data. It is something you should absolutely explore on your own after you've learned these other concepts. Well, in the description, I've linked a few great resources for learning all of the concepts, including the exact one from freeCodeCamp that I gave my friend. Most of them are completely free, but I have also included my discount link for the course on 365 Data Science. So if you're looking for a resource just to take you past the more basic coding and more towards tangible data science skills, I would recommend checking that out. One thing that I love about many of the courses that I've linked is that they have these little mini projects baked into the coursework. I think project based learning is the single most effective way to learn technical concepts. After first getting a basic foundation, I highly encourage you to think about how you can use code to build things that would be useful to you. So for my friend, the first project I'm having him do is create a jiu jijitsu drill randomizer using Python. So for training anything, it's important to reinforce your skills. But it can get boring working on the same basic drills every day. I'm having him make a program that essentially randomly selects two to three drills that we should work on during our sessions from a larger list. This is a simple project, but it's something that's directly relevant and useful to our work and our jujitsu training. With that in mind, I'd love for you to comment below with a Python project that you'd like to do, and we'll all hold each other accountable. Okay? So now that you've learned the basics of Python, now what? If you're interested in learning more about data, I highly recommend that you do a data related project. The single best place for this is Kaggle.com, which I've mentioned before. If that's a bit too intimidating, you can follow along on one of the projects that I've done or one of the thousands of projects that other people have worked on on the Kaggle platform. Realistically, many people lose steam at this step. They go through and see the great work that other people have done, and they get discouraged again. Honestly, I remember feeling this too. What I recommend doing is going through some of the basic notebooks, like the Titanic data set, and just copying the code, running it on your own computer line by line. Many people think that this is cheating, but it's actually a great way to learn. Even better when you run it, make some changes to the code and see what happens. Maybe you should try changing, like the colors on a graph from blue to red, or try to make a line thicker on one of the graphs. Just simple things like that help you iterate and improve. So remember when we talked about Ides earlier and I'd mentioned Jupyter notebook? Kaggle uses something similar to that that lets you work online. This is great and free compute power if you have limited resources at home. So if you want to work with data on your laptop or desktop, I recommend downloading Anaconda. Anaconda is a software package that lumps together all of the relevant Python libraries and Ides for data science in one go. So you can check out my video for how to install it, which I've linked above and in the description. Finally, I have three tips to send you on your way. These are probably the most important things that a new coder can learn. So the first one is to use Google and stack overflow. If you have a question, it's almost guaranteed that someone has asked it before on the Internet, getting good at finding answers on your own via search might be the single most important skill of a data scientist or a software engineer that they use every single day. The second is to use errors so your code will not run it'll break and you'll be sad. Don't just wallow in yourself pity. Read the error messages. They'll tell you something about what's wrong. Also, Google the errors, and this will save you a lot of time and headache. Finally, the third thing is to take it easy on yourself. The only people that can't code are the ones that never try or the ones that quit too early. Thank you all so much for watching, and good luck on your Data science and coding journey.\n"
     ]
    }
   ],
   "source": [
    "# Before running this script, make sure to download it by clicking the \"Download\" button above.\n",
    "\n",
    "# Next, install the assemblyai package.\n",
    "# You can do this by opening your terminal and typing `pip3 install assemblyai` (macOS) or `pip install assemblyai` (Windows).\n",
    "\n",
    "# To run this script, type `python3 ~/Downloads/transcribe-a-youtube-video.py` (macOS) or `python ./transcribe-a-youtube-video.py` (Windows) in your Terminal.\n",
    "\n",
    "# Import the AssemblyAI module\n",
    "import assemblyai as aai\n",
    "\n",
    "# Your API token is already set here\n",
    "aai.settings.api_key = \"d088ec61663a4e85982360b0fa838c06\"\n",
    "\n",
    "# Create a transcriber object.\n",
    "transcriber = aai.Transcriber()\n",
    "\n",
    "# If you have a local audio file, you can transcribe it using the code below.\n",
    "# Make sure to replace the filename with the path to your local audio file.\n",
    "# transcript = transcriber.transcribe(\"https://github.com/pinkushgaba/Audio_Analyser/blob/main/How_I_Would_Learn_to_Code.mp3?raw=True\")\n",
    "\n",
    "# Alternatively, if you have a URL to an audio file, you can transcribe it with the following code.\n",
    "# Uncomment the line below and replace the URL with the link to your audio file.\n",
    "transcript = transcriber.transcribe(\"https://github.com/pinkushgaba/Audio_Analyser/blob/main/How_I_Would_Learn_to_Code.mp3?raw=True\")\n",
    "\n",
    "# After the transcription is complete, the text is printed out to the console.\n",
    "print(transcript.text)"
   ]
  },
  {
   "cell_type": "code",
   "execution_count": null,
   "id": "7bacf45f-2d5c-4da9-97ce-bd1655e338ba",
   "metadata": {},
   "outputs": [],
   "source": []
  }
 ],
 "metadata": {
  "kernelspec": {
   "display_name": "Python 3 (ipykernel)",
   "language": "python",
   "name": "python3"
  },
  "language_info": {
   "codemirror_mode": {
    "name": "ipython",
    "version": 3
   },
   "file_extension": ".py",
   "mimetype": "text/x-python",
   "name": "python",
   "nbconvert_exporter": "python",
   "pygments_lexer": "ipython3",
   "version": "3.9.10"
  }
 },
 "nbformat": 4,
 "nbformat_minor": 5
}
